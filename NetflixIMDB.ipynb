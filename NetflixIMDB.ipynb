{
  "nbformat": 4,
  "nbformat_minor": 0,
  "metadata": {
    "colab": {
      "name": "NetflixIMDB.ipynb",
      "provenance": [],
      "collapsed_sections": [],
      "include_colab_link": true
    },
    "kernelspec": {
      "name": "python3",
      "display_name": "Python 3"
    },
    "language_info": {
      "name": "python"
    }
  },
  "cells": [
    {
      "cell_type": "markdown",
      "metadata": {
        "id": "view-in-github",
        "colab_type": "text"
      },
      "source": [
        "<a href=\"https://colab.research.google.com/github/KyoldFusion/StrangerThings-IMDB-Netflix-/blob/main/NetflixIMDB.ipynb\" target=\"_parent\"><img src=\"https://colab.research.google.com/assets/colab-badge.svg\" alt=\"Open In Colab\"/></a>"
      ]
    },
    {
      "cell_type": "code",
      "metadata": {
        "id": "Cf0vnl8G49kF",
        "colab": {
          "base_uri": "https://localhost:8080/"
        },
        "outputId": "f33f22e4-787d-42eb-b260-9b44aaf4273b"
      },
      "source": [
        "import os\n",
        "# Find the latest version of spark 3.0  from http://www-us.apache.org/dist/spark/ and enter as the spark version\n",
        "# For example:\n",
        "# spark_version = 'spark-3.0.1'\n",
        "spark_version = 'spark-3.1.1'\n",
        "os.environ['SPARK_VERSION']=spark_version\n",
        "\n",
        "# Install Spark and Java\n",
        "!apt-get update\n",
        "!apt-get install openjdk-11-jdk-headless -qq > /dev/null\n",
        "!wget -q http://www-us.apache.org/dist/spark/$SPARK_VERSION/$SPARK_VERSION-bin-hadoop2.7.tgz\n",
        "!tar xf $SPARK_VERSION-bin-hadoop2.7.tgz\n",
        "!pip install -q findspark\n",
        "\n",
        "# Set Environment Variables\n",
        "os.environ[\"JAVA_HOME\"] = \"/usr/lib/jvm/java-11-openjdk-amd64\"\n",
        "os.environ[\"SPARK_HOME\"] = f\"/content/{spark_version}-bin-hadoop2.7\"\n",
        "\n",
        "# Start a SparkSession\n",
        "import findspark\n",
        "findspark.init()"
      ],
      "execution_count": 1,
      "outputs": [
        {
          "output_type": "stream",
          "text": [
            "\r0% [Working]\r            \rGet:1 http://security.ubuntu.com/ubuntu bionic-security InRelease [88.7 kB]\n",
            "\r0% [Connecting to archive.ubuntu.com (91.189.88.142)] [1 InRelease 14.2 kB/88.7\r                                                                               \rIgn:2 https://developer.download.nvidia.com/compute/cuda/repos/ubuntu1804/x86_64  InRelease\n",
            "Get:3 https://cloud.r-project.org/bin/linux/ubuntu bionic-cran40/ InRelease [3,626 B]\n",
            "Get:4 http://ppa.launchpad.net/c2d4u.team/c2d4u4.0+/ubuntu bionic InRelease [15.9 kB]\n",
            "Ign:5 https://developer.download.nvidia.com/compute/machine-learning/repos/ubuntu1804/x86_64  InRelease\n",
            "Hit:6 https://developer.download.nvidia.com/compute/cuda/repos/ubuntu1804/x86_64  Release\n",
            "Hit:7 https://developer.download.nvidia.com/compute/machine-learning/repos/ubuntu1804/x86_64  Release\n",
            "Hit:8 http://archive.ubuntu.com/ubuntu bionic InRelease\n",
            "Get:9 http://archive.ubuntu.com/ubuntu bionic-updates InRelease [88.7 kB]\n",
            "Hit:10 http://ppa.launchpad.net/cran/libgit2/ubuntu bionic InRelease\n",
            "Hit:11 http://ppa.launchpad.net/deadsnakes/ppa/ubuntu bionic InRelease\n",
            "Get:12 http://archive.ubuntu.com/ubuntu bionic-backports InRelease [74.6 kB]\n",
            "Hit:13 http://ppa.launchpad.net/graphics-drivers/ppa/ubuntu bionic InRelease\n",
            "Get:16 http://ppa.launchpad.net/c2d4u.team/c2d4u4.0+/ubuntu bionic/main Sources [1,750 kB]\n",
            "Get:17 http://ppa.launchpad.net/c2d4u.team/c2d4u4.0+/ubuntu bionic/main amd64 Packages [895 kB]\n",
            "Get:18 http://archive.ubuntu.com/ubuntu bionic-updates/main amd64 Packages [2,476 kB]\n",
            "Get:19 http://archive.ubuntu.com/ubuntu bionic-updates/universe amd64 Packages [2,173 kB]\n",
            "Fetched 7,566 kB in 3s (2,319 kB/s)\n",
            "Reading package lists... Done\n"
          ],
          "name": "stdout"
        }
      ]
    },
    {
      "cell_type": "code",
      "metadata": {
        "id": "teYG79a44_fE"
      },
      "source": [
        " #import packages\n",
        "\n",
        "from pyspark.sql import SparkSession\n",
        "from pyspark.sql import Row\n",
        "from pyspark.sql.types import StructType,StructField,StringType, DateType,IntegerType, FloatType\n",
        "from pyspark.sql.functions import col, unix_timestamp, to_date\n",
        "from pyspark.sql.functions import to_timestamp\n",
        "from datetime import timedelta\n",
        "from pyspark.sql.functions import udf\n",
        "\n",
        "# we are going to use this to time our queries.\n",
        "import time\n",
        "\n",
        "# Create a SparkSession\n",
        "spark = SparkSession.builder.appName(\"SparkSQL\").getOrCreate()"
      ],
      "execution_count": 3,
      "outputs": []
    },
    {
      "cell_type": "code",
      "metadata": {
        "id": "A8JmO_ag5BAd"
      },
      "source": [
        "# Read in data from S3 Bucket\n",
        "from pyspark import SparkFiles\n",
        "ratings = \"https://2u-data-curriculum-team.s3.amazonaws.com/dataviz-netflix/ratings.csv\"\n",
        "spark.sparkContext.addFile(ratings)\n",
        "rf = spark.read.csv(SparkFiles.get(\"ratings.csv\"), sep=\",\", header=True)"
      ],
      "execution_count": 4,
      "outputs": []
    },
    {
      "cell_type": "code",
      "metadata": {
        "id": "n2OWO0cmAnCZ"
      },
      "source": [
        "#Create Temp View for ratings.csv\n",
        "rf.createOrReplaceTempView('ratings')"
      ],
      "execution_count": 5,
      "outputs": []
    },
    {
      "cell_type": "code",
      "metadata": {
        "id": "tonCTjPjATFm"
      },
      "source": [
        "# Read in data from S3 Bucket\n",
        "basics = \"https://2u-data-curriculum-team.s3.amazonaws.com/dataviz-netflix/titles_basic.csv\"\n",
        "spark.sparkContext.addFile(basics)\n",
        "bf = spark.read.csv(SparkFiles.get(\"titles_basic.csv\"), sep=\",\", header=True)\n",
        "#bf = bf.withColumn('runtimeminutes', col('runtimeminutes').cast('float'))"
      ],
      "execution_count": 6,
      "outputs": []
    },
    {
      "cell_type": "code",
      "metadata": {
        "id": "WprroUlfA1Du"
      },
      "source": [
        "#Create Temp View for title_basics.csv\n",
        "bf.createOrReplaceTempView('basics')"
      ],
      "execution_count": 7,
      "outputs": []
    },
    {
      "cell_type": "code",
      "metadata": {
        "id": "aEroly6eAbP0"
      },
      "source": [
        "# Read in data from S3 Bucket\n",
        "names = \"https://2u-data-curriculum-team.s3.amazonaws.com/dataviz-netflix/filterNames.csv\"\n",
        "spark.sparkContext.addFile(names)\n",
        "nf = spark.read.csv(SparkFiles.get(\"filterNames.csv\"), sep=\",\", header=True)"
      ],
      "execution_count": 8,
      "outputs": []
    },
    {
      "cell_type": "code",
      "metadata": {
        "id": "SwjVGphOA4m4"
      },
      "source": [
        "#Create temp view for filterNames.csv\n",
        "nf.createOrReplaceTempView('names')"
      ],
      "execution_count": 9,
      "outputs": []
    },
    {
      "cell_type": "code",
      "metadata": {
        "id": "PwdKB8obAhJH"
      },
      "source": [
        "#Read in data from S3 bucket\n",
        "principals = \"https://2u-data-curriculum-team.s3.amazonaws.com/dataviz-netflix/filteredPrincipals.csv\"\n",
        "spark.sparkContext.addFile(principals)\n",
        "pf = spark.read.csv(SparkFiles.get(\"filteredPrincipals.csv\"), sep=\",\", header=True)"
      ],
      "execution_count": 10,
      "outputs": []
    },
    {
      "cell_type": "code",
      "metadata": {
        "id": "nUiDt0iJA9b-"
      },
      "source": [
        "#Create temp view for FilteredPrincipals.csv\n",
        "pf.createOrReplaceTempView('principals')"
      ],
      "execution_count": 11,
      "outputs": []
    },
    {
      "cell_type": "code",
      "metadata": {
        "colab": {
          "base_uri": "https://localhost:8080/"
        },
        "id": "ZnSINn-2BFqQ",
        "outputId": "148997a6-8a08-4899-e3b3-14e60993ebcd"
      },
      "source": [
        "#Question 1 No Parquet\n",
        "start_time = time.time()\n",
        "spark.sql(\"Select DISTINCT nconst, primaryname, birthyear, deathyear, CASE WHEN birthyear IS NOT NULL and deathyear IS NOT NULL then CAST(deathyear - birthyear AS decimal(3,0)) ELSE COALESCE((birthyear - deathyear), 2021-birthyear) END  Age, CASE WHEN deathyear IS NULL AND birthyear IS NOT NULL THEN 'alive' WHEN deathyear IS NOT NULL THEN 'deceased' WHEN birthyear IS NULL AND deathyear is NULL THEN 'unknown' END livingstatus, CASE WHEN deathyear IS NULL THEN true WHEN deathyear IS NOT NULL THEN false END isalive from names where (primaryprofession LIKE '%actor%' OR primaryprofession LIKE '%actress%') AND birthyear IS NOT NULL\").show()\n",
        "print(\"---- %s Seconds ---\" % (time.time() - start_time))"
      ],
      "execution_count": 14,
      "outputs": [
        {
          "output_type": "stream",
          "text": [
            "+---------+--------------------+---------+---------+----+------------+-------+\n",
            "|   nconst|         primaryname|birthyear|deathyear| Age|livingstatus|isalive|\n",
            "+---------+--------------------+---------+---------+----+------------+-------+\n",
            "|nm1446700|          Ben Graves|     1974|     null|47.0|       alive|   true|\n",
            "|nm3128055|Gonzalo Sánchez S...|     1996|     null|25.0|       alive|   true|\n",
            "|nm3129672|       Rufus Hegeman|     1982|     null|39.0|       alive|   true|\n",
            "|nm3130003|Katharina M. Schu...|     1977|     null|44.0|       alive|   true|\n",
            "|nm1450306|      Bernard Kierat|     1976|     null|45.0|       alive|   true|\n",
            "|nm0464793|        László Komár|     1944|     2012|68.0|    deceased|  false|\n",
            "|nm3135124|   Tessie Richardson|     1990|     null|31.0|       alive|   true|\n",
            "|nm3129534|     Steffen Dziczek|     1982|     null|39.0|       alive|   true|\n",
            "|nm3131295|        Xanthe Flint|     1997|     null|24.0|       alive|   true|\n",
            "|nm8467502|      Don Vinkenberg|     1997|     null|24.0|       alive|   true|\n",
            "|nm0461139|      Will Knightley|     1946|     null|75.0|       alive|   true|\n",
            "|nm0000446|    Mariel Hemingway|     1961|     null|60.0|       alive|   true|\n",
            "|nm0465204|         Kelly Konno|     1974|     null|47.0|       alive|   true|\n",
            "|nm1446627|       Jason Burrows|     1977|     null|44.0|       alive|   true|\n",
            "|nm1986244|          C.M. Downs|     1971|     null|50.0|       alive|   true|\n",
            "|nm0001110|      Embeth Davidtz|     1965|     null|56.0|       alive|   true|\n",
            "|nm1985572|Finnur Dór Thorda...|     1979|     2011|32.0|    deceased|  false|\n",
            "|nm0464698|       Matthias Komm|     1966|     null|55.0|       alive|   true|\n",
            "|nm9942270|   Alejandro Fuertes|     2005|     null|16.0|       alive|   true|\n",
            "|nm1126330|         Aaron Kahle|     1978|     null|43.0|       alive|   true|\n",
            "+---------+--------------------+---------+---------+----+------------+-------+\n",
            "only showing top 20 rows\n",
            "\n",
            "---- 19.102294445037842 Seconds ---\n"
          ],
          "name": "stdout"
        }
      ]
    },
    {
      "cell_type": "code",
      "metadata": {
        "id": "GpTtNxAqqLqh"
      },
      "source": [
        "#Writing parquet into files\n",
        "nf.write.parquet('parquet_names', mode='overwrite')"
      ],
      "execution_count": 15,
      "outputs": []
    },
    {
      "cell_type": "code",
      "metadata": {
        "id": "ccA6Nd4dqL2V"
      },
      "source": [
        "#Read parquet created\n",
        "npf = spark.read.parquet('parquet_names')"
      ],
      "execution_count": 16,
      "outputs": []
    },
    {
      "cell_type": "code",
      "metadata": {
        "id": "I1xEWHHqqgEZ"
      },
      "source": [
        "#create temp parquet view for names\n",
        "npf.createOrReplaceTempView('pnames')"
      ],
      "execution_count": 17,
      "outputs": []
    },
    {
      "cell_type": "code",
      "metadata": {
        "id": "sCNVISu2ODbw"
      },
      "source": [
        "####################### QUESTION SEGMENT 1 ####################"
      ],
      "execution_count": null,
      "outputs": []
    },
    {
      "cell_type": "code",
      "metadata": {
        "colab": {
          "base_uri": "https://localhost:8080/"
        },
        "id": "eq2V7frvBJld",
        "outputId": "4a19b8da-d65a-4cbb-ded9-7433ba77957e"
      },
      "source": [
        "#Question 1 Parquet\n",
        "start_time = time.time()\n",
        "spark.sql(\"Select DISTINCT nconst, primaryname, birthyear, deathyear, CASE WHEN birthyear IS NOT NULL and deathyear IS NOT NULL then CAST(deathyear - birthyear AS decimal(3,0)) ELSE COALESCE((birthyear - deathyear), 2021-birthyear) END  Age, CASE WHEN deathyear IS NULL AND birthyear IS NOT NULL THEN 'alive' WHEN deathyear IS NOT NULL THEN 'deceased' WHEN birthyear IS NULL AND deathyear is NULL THEN 'unknown'  END LivingStatus, CASE WHEN deathyear IS NULL THEN true WHEN deathyear IS NOT NULL THEN false END isalive from pnames where (primaryprofession LIKE '%actor%' OR primaryprofession LIKE '%actress%') AND birthyear IS NOT NULL\").show()\n",
        "print(\"---- %s Seconds ---\" % (time.time() - start_time))"
      ],
      "execution_count": 18,
      "outputs": [
        {
          "output_type": "stream",
          "text": [
            "+---------+--------------------+---------+---------+----+------------+-------+\n",
            "|   nconst|         primaryname|birthyear|deathyear| Age|LivingStatus|isalive|\n",
            "+---------+--------------------+---------+---------+----+------------+-------+\n",
            "|nm0961445|    The Naked Cowboy|     1970|     null|51.0|       alive|   true|\n",
            "|nm0962261|           Will Kemp|     1977|     null|44.0|       alive|   true|\n",
            "|nm2598507|    Francys Sudnicka|     1979|     null|42.0|       alive|   true|\n",
            "|nm0988999|       Fulton Burley|     1922|     2007|85.0|    deceased|  false|\n",
            "|nm0989397|Smriti Malhotra-I...|     1976|     null|45.0|       alive|   true|\n",
            "|nm2635396|      Ryan Conferido|     1983|     null|38.0|       alive|   true|\n",
            "|nm3799680|        Eva Sunshine|     1986|     null|35.0|       alive|   true|\n",
            "|nm1004333|       Ilyssa Fradin|     1967|     null|54.0|       alive|   true|\n",
            "|nm3810545|    Amila Terzimehic|     1988|     null|33.0|       alive|   true|\n",
            "|nm1088648|          Lara Kelly|     1979|     null|42.0|       alive|   true|\n",
            "|nm3331563|       Brendon Walsh|     1973|     null|48.0|       alive|   true|\n",
            "|nm1090456|        Jason Loftus|     1975|     null|46.0|       alive|   true|\n",
            "|nm3371872|      DomiNque Perry|     1988|     null|33.0|       alive|   true|\n",
            "|nm3400422|        Misty Kingma|     1985|     null|36.0|       alive|   true|\n",
            "|nm0132371|      David Campbell|     1973|     null|48.0|       alive|   true|\n",
            "|nm2148460|          Todd Nance|     1962|     2020|58.0|    deceased|  false|\n",
            "|nm0146811|       Max Cavallari|     1963|     null|58.0|       alive|   true|\n",
            "|nm0168167|     Forrest Cochran|     1978|     null|43.0|       alive|   true|\n",
            "|nm2203508| Ryan Phillip Thomas|     1985|     null|36.0|       alive|   true|\n",
            "|nm0176164|     Sarah Constible|     1976|     null|45.0|       alive|   true|\n",
            "+---------+--------------------+---------+---------+----+------------+-------+\n",
            "only showing top 20 rows\n",
            "\n",
            "---- 9.403216361999512 Seconds ---\n"
          ],
          "name": "stdout"
        }
      ]
    },
    {
      "cell_type": "code",
      "metadata": {
        "id": "h_OEtz4YOIjV"
      },
      "source": [
        "############################# QUESTION SEGMENT 2 ######################"
      ],
      "execution_count": null,
      "outputs": []
    },
    {
      "cell_type": "code",
      "metadata": {
        "id": "b3eGGkVsO03M",
        "colab": {
          "base_uri": "https://localhost:8080/"
        },
        "outputId": "c6c7a150-9b73-4d61-8125-e3236fc6b704"
      },
      "source": [
        "#Conversion Function\n",
        "def minutesToHourMinutes(minuteString):\n",
        "  if minuteString:\n",
        "    minuteAsFloat = float(minuteString)\n",
        "    return str(timedelta(minutes=minuteAsFloat))[:-3]\n",
        "  else:\n",
        "    return \"0:0\"\n",
        "\n",
        "minutesToHourMinutesUdf = udf(lambda z: minutesToHourMinutes(z), StringType())\n",
        "spark.udf.register(\"minutesToHourMinutesUdf\", minutesToHourMinutesUdf)"
      ],
      "execution_count": null,
      "outputs": [
        {
          "output_type": "execute_result",
          "data": {
            "text/plain": [
              "<function __main__.<lambda>>"
            ]
          },
          "metadata": {
            "tags": []
          },
          "execution_count": 18
        }
      ]
    },
    {
      "cell_type": "code",
      "metadata": {
        "colab": {
          "base_uri": "https://localhost:8080/",
          "height": 35
        },
        "id": "hlqhJOnH0OCf",
        "outputId": "d4c19ee8-d927-41e9-849f-56b11f711285"
      },
      "source": [
        "from datetime import timedelta\n",
        "\n",
        "str(timedelta(minutes=700))"
      ],
      "execution_count": null,
      "outputs": [
        {
          "output_type": "execute_result",
          "data": {
            "application/vnd.google.colaboratory.intrinsic+json": {
              "type": "string"
            },
            "text/plain": [
              "'11:40:00'"
            ]
          },
          "metadata": {
            "tags": []
          },
          "execution_count": 19
        }
      ]
    },
    {
      "cell_type": "code",
      "metadata": {
        "colab": {
          "base_uri": "https://localhost:8080/"
        },
        "id": "V4jh50MSzdNT",
        "outputId": "2169651b-ee6e-465e-c636-9d349ba6003d"
      },
      "source": [
        "a = [1,2,3,4,5,6,7]\n",
        "a[:-3]"
      ],
      "execution_count": null,
      "outputs": [
        {
          "output_type": "execute_result",
          "data": {
            "text/plain": [
              "[1, 2, 3, 4]"
            ]
          },
          "metadata": {
            "tags": []
          },
          "execution_count": 20
        }
      ]
    },
    {
      "cell_type": "code",
      "metadata": {
        "colab": {
          "base_uri": "https://localhost:8080/"
        },
        "id": "51Vz7Yu8BM31",
        "outputId": "60a0a2e5-a5f6-47bb-c6af-9c6b255e77f3"
      },
      "source": [
        "#Question 2 no parquet\n",
        "start_time = time.time()\n",
        "spark.sql(\"\"\"Select b.originaltitle, r.averagerating, b.titletype, COALESCE(minutesToHourMinutesUdf(b.runtimeminutes), 0)\n",
        "         runtime, b.genres from ratings r join basics b ON b.tconst = r.tconst\"\"\").show()\n",
        "print(\"--- %s seconds ---\" % (time.time() - start_time))"
      ],
      "execution_count": null,
      "outputs": [
        {
          "output_type": "stream",
          "text": [
            "+--------------------+-------------+---------+-------+--------------------+\n",
            "|       originaltitle|averagerating|titletype|runtime|              genres|\n",
            "+--------------------+-------------+---------+-------+--------------------+\n",
            "|           500 Almas|          7.2|    movie|   1:45|         Documentary|\n",
            "|         A1 tou tiao|          5.9|    movie|   1:35|    Mystery,Thriller|\n",
            "| AD/BC: A Rock Opera|          7.4|  tvMovie|   0:30|      Comedy,Musical|\n",
            "|       Ah ma yau nan|          5.5|    movie|   1:33|        Comedy,Crime|\n",
            "|      Bau lit do see|          5.4|    movie|   1:39|              Action|\n",
            "|  The Band Aid Story|          8.1|  tvMovie|   1:35|         Documentary|\n",
            "|A Beachcombers Ch...|          7.0|  tvMovie|   2:00|Adventure,Comedy,...|\n",
            "|Blink 182: Punk P...|          4.1|    video|   1:01|         Documentary|\n",
            "|Boogie special: 5...|          1.0|  tvMovie|   0:26|   Documentary,Music|\n",
            "|Boogie special: M...|          7.7|  tvMovie|   0:28|Biography,Documen...|\n",
            "|The British Comed...|          6.2|tvSpecial|   2:05|              Comedy|\n",
            "|      Broken Bridges|          7.9|    movie|   1:36|               Drama|\n",
            "|   Burgers/Reizigers|          6.3|  tvMovie|   1:00|        Comedy,Drama|\n",
            "|          Cabra-Cega|          6.3|    movie|   1:47|               Drama|\n",
            "|            Cascalho|          6.7|    movie|   1:44|               Drama|\n",
            "|Celebrate the Sou...|          7.6|  tvMovie|   1:00| Documentary,Musical|\n",
            "|Cheng chong chui ...|          5.5|    movie|   1:35|        Comedy,Crime|\n",
            "|The China Syndrom...|          5.5|    video|   0:28|   Documentary,Short|\n",
            "|The China Syndrom...|          4.9|    video|   0:30|   Documentary,Short|\n",
            "|    Christmas Lights|          6.7|  tvMovie|   1:08|        Comedy,Drama|\n",
            "+--------------------+-------------+---------+-------+--------------------+\n",
            "only showing top 20 rows\n",
            "\n",
            "--- 4.250700950622559 seconds ---\n"
          ],
          "name": "stdout"
        }
      ]
    },
    {
      "cell_type": "code",
      "metadata": {
        "id": "lQwQGkqTedw7"
      },
      "source": [
        "rf.write.parquet('parquet_ratings', mode='overwrite')"
      ],
      "execution_count": null,
      "outputs": []
    },
    {
      "cell_type": "code",
      "metadata": {
        "id": "2_BNGfTreqbK"
      },
      "source": [
        "rpf = spark.read.parquet('parquet_ratings')"
      ],
      "execution_count": null,
      "outputs": []
    },
    {
      "cell_type": "code",
      "metadata": {
        "id": "Eb4feLEvfKn-"
      },
      "source": [
        "rpf.createOrReplaceTempView('rratings')"
      ],
      "execution_count": null,
      "outputs": []
    },
    {
      "cell_type": "code",
      "metadata": {
        "id": "zJyxcbO-HWaJ"
      },
      "source": [
        "bf.write.parquet('parquet_basics', mode='overwrite')"
      ],
      "execution_count": null,
      "outputs": []
    },
    {
      "cell_type": "code",
      "metadata": {
        "id": "TX415E1gKo3T"
      },
      "source": [
        "bpf = spark.read.parquet('parquet_basics')"
      ],
      "execution_count": null,
      "outputs": []
    },
    {
      "cell_type": "code",
      "metadata": {
        "id": "ONl9PBOzKqLw"
      },
      "source": [
        "bpf.createOrReplaceTempView('bbasics')"
      ],
      "execution_count": null,
      "outputs": []
    },
    {
      "cell_type": "code",
      "metadata": {
        "id": "L6eMvv6uK40m"
      },
      "source": [
        "#Writing parquet into files\n",
        "pf.write.parquet('parquet_principals', mode='overwrite')"
      ],
      "execution_count": null,
      "outputs": []
    },
    {
      "cell_type": "code",
      "metadata": {
        "id": "K_lOElYGXcdV"
      },
      "source": [
        "#Read parquet created\n",
        "ppf = spark.read.parquet('parquet_principals')"
      ],
      "execution_count": null,
      "outputs": []
    },
    {
      "cell_type": "code",
      "metadata": {
        "id": "t0wF0FcuXem7"
      },
      "source": [
        "#create temp parquet view for prinicpals\n",
        "ppf.createOrReplaceTempView('pprincipals')"
      ],
      "execution_count": null,
      "outputs": []
    },
    {
      "cell_type": "code",
      "metadata": {
        "colab": {
          "base_uri": "https://localhost:8080/"
        },
        "id": "dqTOzlS9eUGp",
        "outputId": "6e90c032-0464-4f60-fe0d-ba5fb0828708"
      },
      "source": [
        "#Question 2 Parquet\n",
        "start_time = time.time()\n",
        "spark.sql(\"\"\"Select b.originaltitle, r.averagerating, b.titletype, COALESCE(minutesToHourMinutesUdf\n",
        "(b.runtimeminutes), 0) runtime, b.genres from rratings r join bbasics b ON b.tconst = r.tconst\"\"\").show()\n",
        "print(\"--- %s seconds ---\" % (time.time() - start_time))"
      ],
      "execution_count": null,
      "outputs": [
        {
          "output_type": "stream",
          "text": [
            "+--------------------+-------------+---------+-------+--------------------+\n",
            "|       originaltitle|averagerating|titletype|runtime|              genres|\n",
            "+--------------------+-------------+---------+-------+--------------------+\n",
            "|           500 Almas|          7.2|    movie|   1:45|         Documentary|\n",
            "|         A1 tou tiao|          5.9|    movie|   1:35|    Mystery,Thriller|\n",
            "| AD/BC: A Rock Opera|          7.4|  tvMovie|   0:30|      Comedy,Musical|\n",
            "|       Ah ma yau nan|          5.5|    movie|   1:33|        Comedy,Crime|\n",
            "|      Bau lit do see|          5.4|    movie|   1:39|              Action|\n",
            "|  The Band Aid Story|          8.1|  tvMovie|   1:35|         Documentary|\n",
            "|A Beachcombers Ch...|          7.0|  tvMovie|   2:00|Adventure,Comedy,...|\n",
            "|Blink 182: Punk P...|          4.1|    video|   1:01|         Documentary|\n",
            "|Boogie special: 5...|          1.0|  tvMovie|   0:26|   Documentary,Music|\n",
            "|Boogie special: M...|          7.7|  tvMovie|   0:28|Biography,Documen...|\n",
            "|The British Comed...|          6.2|tvSpecial|   2:05|              Comedy|\n",
            "|      Broken Bridges|          7.9|    movie|   1:36|               Drama|\n",
            "|   Burgers/Reizigers|          6.3|  tvMovie|   1:00|        Comedy,Drama|\n",
            "|          Cabra-Cega|          6.3|    movie|   1:47|               Drama|\n",
            "|            Cascalho|          6.7|    movie|   1:44|               Drama|\n",
            "|Celebrate the Sou...|          7.6|  tvMovie|   1:00| Documentary,Musical|\n",
            "|Cheng chong chui ...|          5.5|    movie|   1:35|        Comedy,Crime|\n",
            "|The China Syndrom...|          5.5|    video|   0:28|   Documentary,Short|\n",
            "|The China Syndrom...|          4.9|    video|   0:30|   Documentary,Short|\n",
            "|    Christmas Lights|          6.7|  tvMovie|   1:08|        Comedy,Drama|\n",
            "+--------------------+-------------+---------+-------+--------------------+\n",
            "only showing top 20 rows\n",
            "\n",
            "--- 1.6182947158813477 seconds ---\n"
          ],
          "name": "stdout"
        }
      ]
    },
    {
      "cell_type": "code",
      "metadata": {
        "id": "-rWETPLcOAUQ"
      },
      "source": [
        "########### QUESTION SEGMENT 3 #####################\n",
        "233677\n",
        "7544510\n",
        "8595190"
      ],
      "execution_count": null,
      "outputs": []
    },
    {
      "cell_type": "code",
      "metadata": {
        "id": "bc7Td_Y5jCf7",
        "colab": {
          "base_uri": "https://localhost:8080/"
        },
        "outputId": "8d16e09e-4b51-4b8d-bb55-654298bd0bd8"
      },
      "source": [
        "233677+7544510"
      ],
      "execution_count": null,
      "outputs": [
        {
          "output_type": "execute_result",
          "data": {
            "text/plain": [
              "7778187"
            ]
          },
          "metadata": {
            "tags": []
          },
          "execution_count": 49
        }
      ]
    },
    {
      "cell_type": "code",
      "metadata": {
        "colab": {
          "base_uri": "https://localhost:8080/"
        },
        "id": "DWsiZKzuhHj-",
        "outputId": "4809a2b4-dbfc-4ca3-f296-3c44d3c74763"
      },
      "source": [
        "spark.sql(\"SELECT COUNT(*) FROM names\").show()"
      ],
      "execution_count": null,
      "outputs": [
        {
          "output_type": "stream",
          "text": [
            "+--------+\n",
            "|count(1)|\n",
            "+--------+\n",
            "| 8595190|\n",
            "+--------+\n",
            "\n"
          ],
          "name": "stdout"
        }
      ]
    },
    {
      "cell_type": "code",
      "metadata": {
        "colab": {
          "base_uri": "https://localhost:8080/"
        },
        "id": "qLZdDVO2GHut",
        "outputId": "a1bf87ac-0712-4da2-ea2b-53dc5fdf8348"
      },
      "source": [
        "#Question #3\n",
        "start_time = time.time()\n",
        "spark.sql(\"Select n.primaryname, b.primarytitle, n.knownFor, n.primaryprofession from names n join basics b ON n.knownFor = b.tconst WHERE n.primaryprofession ='producer'\").show()\n",
        "print('--- %s Seconds ---' % (time.time() - start_time))"
      ],
      "execution_count": null,
      "outputs": [
        {
          "output_type": "stream",
          "text": [
            "+-------------------+--------------------+---------+-----------------+\n",
            "|        primaryname|        primarytitle| knownFor|primaryprofession|\n",
            "+-------------------+--------------------+---------+-----------------+\n",
            "|      Werner Kernig|  Legion of the Dead|tt0213802|         producer|\n",
            "|   Michael Okulitch|    Suspicious River|tt0219333|         producer|\n",
            "|      Erik Stensrud|    Suspicious River|tt0219333|         producer|\n",
            "|     Michael Warren|On Hallowed Groun...|tt0245330|         producer|\n",
            "|    Dennis Brownlee|On Hallowed Groun...|tt0245330|         producer|\n",
            "|   Cornelia Burnham|On Hallowed Groun...|tt0245330|         producer|\n",
            "|    Philip M. Frost|     Killer Instinct|tt0246000|         producer|\n",
            "|   Denis Shusterman|     Killer Instinct|tt0246000|         producer|\n",
            "|      Bill Atherton|        Thank Heaven|tt0252902|         producer|\n",
            "|       Luciano Lisi|       One Eyed King|tt0254626|         producer|\n",
            "| Christine Kavanagh|       One Eyed King|tt0254626|         producer|\n",
            "|Zulfiya Nurutdinova|The Garden Was Fu...|tt0256898|         producer|\n",
            "|    Eckhard Düsberg|       Der Ermittler|tt0264242|         producer|\n",
            "|     Annette Reisse|       Der Ermittler|tt0264242|         producer|\n",
            "|       Casey Childs|            Far East|tt0268299|         producer|\n",
            "|  Katrina Fernandez|           Amerikana|tt0276773|         producer|\n",
            "|   Franck Gautherot|      Shimkent hôtel|tt0282141|         producer|\n",
            "|      Gil Donaldson|      Shimkent hôtel|tt0282141|         producer|\n",
            "|     Xavier Douroux|      Shimkent hôtel|tt0282141|         producer|\n",
            "|   Norihiko Imamura|   Furê furê jinsei!|tt0292794|         producer|\n",
            "+-------------------+--------------------+---------+-----------------+\n",
            "only showing top 20 rows\n",
            "\n",
            "--- 19.780228853225708 Seconds ---\n"
          ],
          "name": "stdout"
        }
      ]
    },
    {
      "cell_type": "code",
      "metadata": {
        "colab": {
          "base_uri": "https://localhost:8080/"
        },
        "id": "q0NscKCuKzHn",
        "outputId": "a255a8c3-e0d8-48e9-affd-d5376adf3e10"
      },
      "source": [
        "#Question 3 Parquet\n",
        "start_time = time.time()\n",
        "spark.sql(\"Select n.primaryname, b.primarytitle, n.knownFor, n.primaryprofession from pnames n join bbasics b ON n.knownFor = b.tconst WHERE n.primaryprofession = 'producer' \").show()\n",
        "print('--- %s Seconds ---' % (time.time() - start_time))"
      ],
      "execution_count": null,
      "outputs": [
        {
          "output_type": "stream",
          "text": [
            "+-----------------+--------------------+----------+-----------------+\n",
            "|      primaryname|        primarytitle|  knownFor|primaryprofession|\n",
            "+-----------------+--------------------+----------+-----------------+\n",
            "|   Akeko Yokoyama|            Kamichu!| tt0961173|         producer|\n",
            "|    Chris Shearer|  In This Short Life| tt0962765|         producer|\n",
            "|     Linda Dippel|Barney: Let's Go ...| tt2591718|         producer|\n",
            "|       Jay Nelson|     Beyond the Pale| tt0934392|         producer|\n",
            "|        Mike Sano|        Super Tanker| tt1776309|         producer|\n",
            "|     Holden Hayes|The John Kerwin Show| tt0849013|         producer|\n",
            "|     Lisa Jackson|The Firm: Total B...| tt0947008|         producer|\n",
            "|  Jason Bangerter|        The Downline| tt0970929|         producer|\n",
            "|Jennifer Bernardi|Renovation Realities| tt1328346|         producer|\n",
            "|Jennifer Bernardi|    Designed to Sell| tt0415415|         producer|\n",
            "|       Lori Drake|        The Downline| tt0970929|         producer|\n",
            "|    Robert Willis|     Flamingo Dreams| tt0129095|         producer|\n",
            "|      Ivy Winters|Adolescents of Ch...|tt12837402|         producer|\n",
            "|   Werner Wirsing|A Matador's Mistress| tt0491046|         producer|\n",
            "|    Wolfgang Witt|      SOKO Stuttgart| tt1410219|         producer|\n",
            "|     Stuart Wolff|          Home Movie| tt0275408|         producer|\n",
            "|       Wendy Todd|The Way Bobby See...| tt1554550|         producer|\n",
            "|Michael Steinwand|Salonika - A city...|tt10445768|         producer|\n",
            "|      John McHugh|The Ambassadors o...| tt1550629|         producer|\n",
            "|     Bob Johnston|Tell Me a Story: ...| tt5849562|         producer|\n",
            "+-----------------+--------------------+----------+-----------------+\n",
            "only showing top 20 rows\n",
            "\n",
            "--- 2.3966457843780518 Seconds ---\n"
          ],
          "name": "stdout"
        }
      ]
    },
    {
      "cell_type": "code",
      "metadata": {
        "id": "_ZUv3KOha1nE"
      },
      "source": [
        "########### QUESTION SEGMENT 4 #####################"
      ],
      "execution_count": null,
      "outputs": []
    },
    {
      "cell_type": "code",
      "metadata": {
        "colab": {
          "base_uri": "https://localhost:8080/"
        },
        "id": "_lG1EEBIdiVc",
        "outputId": "1b5c7500-a4f8-4b55-f906-c1dad822206f"
      },
      "source": [
        "#Question 4\n",
        "start_time = time.time()\n",
        "spark.sql(\"Select DISTINCT p.characters, p.nconst from principals p join names n ON p.nconst = n.nconst WHERE characters is NOT null\").show()\n",
        "print('--- %s Seconds ---' % (time.time() - start_time))"
      ],
      "execution_count": null,
      "outputs": [
        {
          "output_type": "stream",
          "text": [
            "+--------------------+---------+\n",
            "|          characters|   nconst|\n",
            "+--------------------+---------+\n",
            "|        \"[\"\"Self\"\"]\"|nm0000198|\n",
            "|     \"[\"\"Solomon\"\"]\"|nm0000198|\n",
            "|\"[\"\"Shelly Runyon...|nm0000198|\n",
            "|          \"[\"\"Self\"\"|nm0000198|\n",
            "|\"[\"\"Nathaniel She...|nm0000198|\n",
            "|  \"[\"\"Bob Cratchit\"\"|nm0000198|\n",
            "|    \"[\"\"Narrator\"\"]\"|nm0000198|\n",
            "|\"[\"\"William Holtz...|nm0000198|\n",
            "|\"[\"\"Dr. Dennett N...|nm0000198|\n",
            "|\"[\"\"Herman Mankie...|nm0000198|\n",
            "|\"[\"\"Jürgen Mossac...|nm0000198|\n",
            "|       \"[\"\"David\"\"]\"|nm0000198|\n",
            "|\"[\"\"Jackson Lamb\"\"]\"|nm0000198|\n",
            "|\"[\"\"Mason Verger\"\"]\"|nm0000198|\n",
            "| \"[\"\"Self (2020)\"\"]\"|nm0000198|\n",
            "|          \"[\"\"GO\"\"]\"|nm0000198|\n",
            "| \"[\"\"Buford Dill\"\"]\"|nm0000198|\n",
            "|\"[\"\"Charlie Strom...|nm0000198|\n",
            "|     \"[\"\"Dreyfus\"\"]\"|nm0000198|\n",
            "|\"[\"\"Nicolas Wyatt...|nm0000198|\n",
            "+--------------------+---------+\n",
            "only showing top 20 rows\n",
            "\n",
            "--- 49.49090099334717 Seconds ---\n"
          ],
          "name": "stdout"
        }
      ]
    },
    {
      "cell_type": "code",
      "metadata": {
        "colab": {
          "base_uri": "https://localhost:8080/"
        },
        "id": "2go57rGMXj4Y",
        "outputId": "5aceec53-0f40-4414-b71c-c00fe61af94e"
      },
      "source": [
        "#Question 4 Parquet\n",
        "start_time = time.time()\n",
        "spark.sql(\"Select DISTINCT p.characters, p.nconst from pprincipals p join pnames n ON p.nconst = n.nconst WHERE characters is NOT null\").show()\n",
        "print('--- %s Seconds ---' % (time.time() - start_time))"
      ],
      "execution_count": null,
      "outputs": [
        {
          "output_type": "stream",
          "text": [
            "+--------------------+---------+\n",
            "|          characters|   nconst|\n",
            "+--------------------+---------+\n",
            "|        \"[\"\"Self\"\"]\"|nm0000198|\n",
            "|\"[\"\"Dr. Tyrone Br...|nm0000198|\n",
            "|       \"[\"\"Lynch\"\"]\"|nm0000198|\n",
            "|\"[\"\"Vladislav Duk...|nm0000198|\n",
            "|\"[\"\"CJCS Charles ...|nm0000198|\n",
            "|    \"[\"\"Narrator\"\"]\"|nm0000198|\n",
            "|    \"[\"\"Carnegie\"\"]\"|nm0000198|\n",
            "|\"[\"\"Commissioner ...|nm0000198|\n",
            "|\"[\"\"George Smiley...|nm0000198|\n",
            "|         \"[\"\"Tau\"\"]\"|nm0000198|\n",
            "|  \"[\"\"Self - Actor\"\"|nm0000198|\n",
            "|        \"[\"\"Paul\"\"]\"|nm0000198|\n",
            "|\"[\"\"Winston Churc...|nm0000198|\n",
            "|\"[\"\"Self - Actor\"\"]\"|nm0000198|\n",
            "|\"[\"\"Counselor Pey...|nm0000198|\n",
            "|\"[\"\"Rabbi Sendak\"\"]\"|nm0000198|\n",
            "|          \"[\"\"GO\"\"]\"|nm0000198|\n",
            "| \"[\"\"Buford Dill\"\"]\"|nm0000198|\n",
            "|\"[\"\"Charlie Strom...|nm0000198|\n",
            "|     \"[\"\"Dreyfus\"\"]\"|nm0000198|\n",
            "+--------------------+---------+\n",
            "only showing top 20 rows\n",
            "\n",
            "--- 10.763848066329956 Seconds ---\n"
          ],
          "name": "stdout"
        }
      ]
    },
    {
      "cell_type": "code",
      "metadata": {
        "id": "utRXKLeLeG2G"
      },
      "source": [
        "#spark.sql(\"Select DISTINCT xp.characters, xp.nconst from (Select DISTINCT characters, nconst from pprincipals) xp join pnames n ON xp.nconst = n.nconst WHERE xp.characters is NOT null\").show(5)"
      ],
      "execution_count": null,
      "outputs": []
    },
    {
      "cell_type": "code",
      "metadata": {
        "id": "0-g5KghXsMkn"
      },
      "source": [
        ""
      ],
      "execution_count": null,
      "outputs": []
    }
  ]
}