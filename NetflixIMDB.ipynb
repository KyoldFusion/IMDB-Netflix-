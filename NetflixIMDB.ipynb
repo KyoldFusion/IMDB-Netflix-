{
  "nbformat": 4,
  "nbformat_minor": 0,
  "metadata": {
    "colab": {
      "name": "NetflixIMDB.ipynb",
      "provenance": [],
      "collapsed_sections": [],
      "include_colab_link": true
    },
    "kernelspec": {
      "name": "python3",
      "display_name": "Python 3"
    },
    "language_info": {
      "name": "python"
    }
  },
  "cells": [
    {
      "cell_type": "markdown",
      "metadata": {
        "id": "view-in-github",
        "colab_type": "text"
      },
      "source": [
        "<a href=\"https://colab.research.google.com/github/KyoldFusion/IMDB-Netflix-/blob/main/NetflixIMDB.ipynb\" target=\"_parent\"><img src=\"https://colab.research.google.com/assets/colab-badge.svg\" alt=\"Open In Colab\"/></a>"
      ]
    },
    {
      "cell_type": "code",
      "metadata": {
        "id": "Cf0vnl8G49kF",
        "colab": {
          "base_uri": "https://localhost:8080/"
        },
        "outputId": "f33e169a-6d8a-4362-df72-ba38e65ae671"
      },
      "source": [
        "import os\n",
        "# Find the latest version of spark 3.0  from http://www-us.apache.org/dist/spark/ and enter as the spark version\n",
        "# For example:\n",
        "# spark_version = 'spark-3.0.1'\n",
        "spark_version = 'spark-3.1.1'\n",
        "os.environ['SPARK_VERSION']=spark_version\n",
        "\n",
        "# Install Spark and Java\n",
        "!apt-get update\n",
        "!apt-get install openjdk-11-jdk-headless -qq > /dev/null\n",
        "!wget -q http://www-us.apache.org/dist/spark/$SPARK_VERSION/$SPARK_VERSION-bin-hadoop2.7.tgz\n",
        "!tar xf $SPARK_VERSION-bin-hadoop2.7.tgz\n",
        "!pip install -q findspark\n",
        "\n",
        "# Set Environment Variables\n",
        "os.environ[\"JAVA_HOME\"] = \"/usr/lib/jvm/java-11-openjdk-amd64\"\n",
        "os.environ[\"SPARK_HOME\"] = f\"/content/{spark_version}-bin-hadoop2.7\"\n",
        "\n",
        "# Start a SparkSession\n",
        "import findspark\n",
        "findspark.init()"
      ],
      "execution_count": 1,
      "outputs": [
        {
          "output_type": "stream",
          "text": [
            "\r0% [Working]\r            \rGet:1 https://cloud.r-project.org/bin/linux/ubuntu bionic-cran40/ InRelease [3,626 B]\n",
            "\r0% [Connecting to archive.ubuntu.com (91.189.88.142)] [Connecting to security.u\r0% [Connecting to archive.ubuntu.com (91.189.88.142)] [Connecting to security.u\r0% [1 InRelease gpgv 3,626 B] [Waiting for headers] [Connecting to security.ubu\r                                                                               \rIgn:2 https://developer.download.nvidia.com/compute/cuda/repos/ubuntu1804/x86_64  InRelease\n",
            "\r0% [1 InRelease gpgv 3,626 B] [Waiting for headers] [Waiting for headers] [Wait\r                                                                               \rHit:3 http://archive.ubuntu.com/ubuntu bionic InRelease\n",
            "\r0% [1 InRelease gpgv 3,626 B] [Waiting for headers] [Waiting for headers] [Wait\r                                                                               \rGet:4 http://ppa.launchpad.net/c2d4u.team/c2d4u4.0+/ubuntu bionic InRelease [15.9 kB]\n",
            "\r0% [1 InRelease gpgv 3,626 B] [Waiting for headers] [Waiting for headers] [4 In\r                                                                               \rGet:5 http://security.ubuntu.com/ubuntu bionic-security InRelease [88.7 kB]\n",
            "\r0% [1 InRelease gpgv 3,626 B] [Waiting for headers] [5 InRelease 14.2 kB/88.7 k\r                                                                               \rIgn:6 https://developer.download.nvidia.com/compute/machine-learning/repos/ubuntu1804/x86_64  InRelease\n",
            "\r0% [1 InRelease gpgv 3,626 B] [Waiting for headers] [5 InRelease 14.2 kB/88.7 k\r                                                                               \rHit:7 https://developer.download.nvidia.com/compute/cuda/repos/ubuntu1804/x86_64  Release\n",
            "Get:8 http://archive.ubuntu.com/ubuntu bionic-updates InRelease [88.7 kB]\n",
            "Hit:9 https://developer.download.nvidia.com/compute/machine-learning/repos/ubuntu1804/x86_64  Release\n",
            "Get:10 https://cloud.r-project.org/bin/linux/ubuntu bionic-cran40/ Packages [52.7 kB]\n",
            "Hit:11 http://ppa.launchpad.net/cran/libgit2/ubuntu bionic InRelease\n",
            "Get:12 http://archive.ubuntu.com/ubuntu bionic-backports InRelease [74.6 kB]\n",
            "Get:13 http://ppa.launchpad.net/deadsnakes/ppa/ubuntu bionic InRelease [15.9 kB]\n",
            "Hit:15 http://ppa.launchpad.net/graphics-drivers/ppa/ubuntu bionic InRelease\n",
            "Get:16 http://ppa.launchpad.net/c2d4u.team/c2d4u4.0+/ubuntu bionic/main Sources [1,749 kB]\n",
            "Get:18 http://security.ubuntu.com/ubuntu bionic-security/main amd64 Packages [2,045 kB]\n",
            "Get:19 http://ppa.launchpad.net/c2d4u.team/c2d4u4.0+/ubuntu bionic/main amd64 Packages [895 kB]\n",
            "Get:20 http://archive.ubuntu.com/ubuntu bionic-updates/main amd64 Packages [2,475 kB]\n",
            "Get:21 http://security.ubuntu.com/ubuntu bionic-security/universe amd64 Packages [1,402 kB]\n",
            "Get:22 http://archive.ubuntu.com/ubuntu bionic-updates/universe amd64 Packages [2,170 kB]\n",
            "Get:23 http://ppa.launchpad.net/deadsnakes/ppa/ubuntu bionic/main amd64 Packages [39.5 kB]\n",
            "Fetched 11.1 MB in 4s (3,085 kB/s)\n",
            "Reading package lists... Done\n"
          ],
          "name": "stdout"
        }
      ]
    },
    {
      "cell_type": "code",
      "metadata": {
        "id": "teYG79a44_fE"
      },
      "source": [
        " #import packages\n",
        "\n",
        "from pyspark.sql import SparkSession\n",
        "from pyspark.sql import Row\n",
        "from pyspark.sql.types import StructType,StructField,StringType, DateType,IntegerType\n",
        "from pyspark.sql.functions import col, unix_timestamp, to_date\n",
        "from pyspark.sql.functions import to_timestamp\n",
        "\n",
        "# we are going to use this to time our queries.\n",
        "import time\n",
        "\n",
        "# Create a SparkSession\n",
        "spark = SparkSession.builder.appName(\"SparkSQL\").getOrCreate()"
      ],
      "execution_count": 2,
      "outputs": []
    },
    {
      "cell_type": "code",
      "metadata": {
        "id": "A8JmO_ag5BAd"
      },
      "source": [
        "# Read in data from S3 Bucket\n",
        "from pyspark import SparkFiles\n",
        "ratings = \"https://2u-data-curriculum-team.s3.amazonaws.com/dataviz-netflix/ratings.csv\"\n",
        "spark.sparkContext.addFile(ratings)\n",
        "rf = spark.read.csv(SparkFiles.get(\"ratings.csv\"), sep=\",\", header=True)"
      ],
      "execution_count": 3,
      "outputs": []
    },
    {
      "cell_type": "code",
      "metadata": {
        "id": "n2OWO0cmAnCZ"
      },
      "source": [
        "#Create Temp View for ratings.csv\n",
        "rf.createOrReplaceTempView('ratings')"
      ],
      "execution_count": 4,
      "outputs": []
    },
    {
      "cell_type": "code",
      "metadata": {
        "id": "tonCTjPjATFm"
      },
      "source": [
        "# Read in data from S3 Bucket\n",
        "basics = \"https://2u-data-curriculum-team.s3.amazonaws.com/dataviz-netflix/titles_basic.csv\"\n",
        "spark.sparkContext.addFile(basics)\n",
        "bf = spark.read.csv(SparkFiles.get(\"titles_basic.csv\"), sep=\",\", header=True)\n",
        "#bf = bf.withColumn('runtimeminutes', col('runtimeminutes').cast('int'))"
      ],
      "execution_count": 5,
      "outputs": []
    },
    {
      "cell_type": "code",
      "metadata": {
        "id": "WprroUlfA1Du",
        "colab": {
          "base_uri": "https://localhost:8080/"
        },
        "outputId": "9cc52d8a-564c-434c-cb1a-a4dc6c371260"
      },
      "source": [
        "#Create Temp View for title_basics.csv\n",
        "bf.createOrReplaceTempView('basics')\n",
        "spark.sql(\"Select * from basics\").show(5)"
      ],
      "execution_count": 17,
      "outputs": [
        {
          "output_type": "stream",
          "text": [
            "+---+---------+---------+--------------------+--------------------+-------+---------+-------+--------------+-----------------+\n",
            "|_c0|   tconst|titletype|        primarytitle|       originaltitle|isadult|startyear|endyear|runtimeminutes|           genres|\n",
            "+---+---------+---------+--------------------+--------------------+-------+---------+-------+--------------+-----------------+\n",
            "|  0|tt0439997|    movie|           500 Almas|           500 Almas|      0|     2004|   null|         105.0|      Documentary|\n",
            "|  1|tt0439999|tvSpecial|           80s Mania|           80s Mania|      0|     2001|   null|          50.0|            Music|\n",
            "|  3|tt0440003|    movie|        A-1 Headline|         A1 tou tiao|      0|     2004|   null|          95.0| Mystery,Thriller|\n",
            "|  4|tt0440004|  tvMovie| AD/BC: A Rock Opera| AD/BC: A Rock Opera|      0|     2004|   null|          30.0|   Comedy,Musical|\n",
            "|  5|tt0440008|  tvMovie|Abbamania: We Say...|Abbamania: We Say...|      0|     2004|   null|          50.0|Documentary,Music|\n",
            "+---+---------+---------+--------------------+--------------------+-------+---------+-------+--------------+-----------------+\n",
            "only showing top 5 rows\n",
            "\n"
          ],
          "name": "stdout"
        }
      ]
    },
    {
      "cell_type": "code",
      "metadata": {
        "id": "aEroly6eAbP0"
      },
      "source": [
        "# Read in data from S3 Bucket\n",
        "names = \"https://2u-data-curriculum-team.s3.amazonaws.com/dataviz-netflix/filterNames.csv\"\n",
        "spark.sparkContext.addFile(names)\n",
        "nf = spark.read.csv(SparkFiles.get(\"filterNames.csv\"), sep=\",\", header=True)"
      ],
      "execution_count": 6,
      "outputs": []
    },
    {
      "cell_type": "code",
      "metadata": {
        "id": "SwjVGphOA4m4"
      },
      "source": [
        "#Create temp view for filterNames.csv\n",
        "nf.createOrReplaceTempView('names')"
      ],
      "execution_count": 8,
      "outputs": []
    },
    {
      "cell_type": "code",
      "metadata": {
        "id": "PwdKB8obAhJH"
      },
      "source": [
        "#Read in data from S3 bucket\n",
        "principals = \"https://2u-data-curriculum-team.s3.amazonaws.com/dataviz-netflix/filteredPrincipals.csv\"\n",
        "spark.sparkContext.addFile(principals)\n",
        "pf = spark.read.csv(SparkFiles.get(\"filteredPrincipals.csv\"), sep=\",\", header=True)"
      ],
      "execution_count": 7,
      "outputs": []
    },
    {
      "cell_type": "code",
      "metadata": {
        "id": "nUiDt0iJA9b-"
      },
      "source": [
        "#Create temp view for FilteredPrincipals.csv\n",
        "pf.createOrReplaceTempView('principals')"
      ],
      "execution_count": 9,
      "outputs": []
    },
    {
      "cell_type": "code",
      "metadata": {
        "colab": {
          "base_uri": "https://localhost:8080/"
        },
        "id": "5C23pEWRBCQ7",
        "outputId": "56fa4115-de92-4824-a3ad-e75887c9ea9d"
      },
      "source": [
        "spark.sql(\"Select * from principals\").show(5)"
      ],
      "execution_count": null,
      "outputs": [
        {
          "output_type": "stream",
          "text": [
            "+----------+--------+---------+--------+----+-----------------+\n",
            "|    tconst|ordering|   nconst|category| job|       characters|\n",
            "+----------+--------+---------+--------+----+-----------------+\n",
            "|tt12189034|       6|nm5943320|   actor|null|      \"[\"\"Lee\"\"]\"|\n",
            "|tt12189034|       6|nm5943320|   actor|null|      \"[\"\"Lee\"\"]\"|\n",
            "|tt12189034|       6|nm5943320|   actor|null|      \"[\"\"Lee\"\"]\"|\n",
            "|tt12189034|       6|nm5943320|   actor|null|      \"[\"\"Lee\"\"]\"|\n",
            "|tt12189034|       8|nm7672770|   actor|null|\"[\"\"Detective\"\"]\"|\n",
            "+----------+--------+---------+--------+----+-----------------+\n",
            "only showing top 5 rows\n",
            "\n"
          ],
          "name": "stdout"
        }
      ]
    },
    {
      "cell_type": "code",
      "metadata": {
        "colab": {
          "base_uri": "https://localhost:8080/"
        },
        "id": "ZnSINn-2BFqQ",
        "outputId": "c27ecb58-e2a8-4f30-93b1-2e6b78a756bb"
      },
      "source": [
        "#Question 1 No Parquet\n",
        "start_time = time.time()\n",
        "spark.sql(\"Select DISTINCT nconst, primaryname, birthyear, deathyear, CASE WHEN birthyear IS NOT NULL and deathyear IS NOT NULL then CAST(deathyear - birthyear AS decimal(3,0)) ELSE COALESCE((birthyear - deathyear), 2021-birthyear) END  Age, CASE WHEN deathyear IS NULL AND birthyear IS NOT NULL THEN 'alive' WHEN deathyear IS NOT NULL THEN 'deceased' WHEN birthyear IS NULL AND deathyear is NULL THEN 'unknown' END livingstatus from names where (primaryprofession LIKE '%actor%' OR primaryprofession LIKE '%actress%') AND birthyear IS NOT NULL\").show()\n",
        "print(\"---- %s Seconds ---\" % (time.time() - start_time))"
      ],
      "execution_count": null,
      "outputs": [
        {
          "output_type": "stream",
          "text": [
            "+---------+--------------------+---------+---------+----+------------+\n",
            "|   nconst|         primaryname|birthyear|deathyear| Age|livingstatus|\n",
            "+---------+--------------------+---------+---------+----+------------+\n",
            "|nm1441958|           Geddy Lee|     1953|     null|68.0|       alive|\n",
            "|nm1443104|   Wanda Wilkomirska|     1929|     2018|89.0|    deceased|\n",
            "|nm1450441|         Lexi Lamour|     1976|     null|45.0|       alive|\n",
            "|nm1451129| Carles Romero Vidal|     1977|     null|44.0|       alive|\n",
            "|nm1454258|       Cilly Dartell|     1957|     null|64.0|       alive|\n",
            "|nm6268945|   Monika Potokárová|     1992|     2019|27.0|    deceased|\n",
            "|nm6276162|    Alasdair Gillies|     1938|     null|83.0|       alive|\n",
            "|nm6278631|               Spice|     1982|     null|39.0|       alive|\n",
            "|nm0000139|        Cameron Diaz|     1972|     null|49.0|       alive|\n",
            "|nm0000457|           John Hurt|     1940|     2017|77.0|    deceased|\n",
            "|nm0002168|Willeke van Ammel...|     1944|     null|77.0|       alive|\n",
            "|nm1457058|        Melanie Teix|     1983|     null|38.0|       alive|\n",
            "|nm0000128|       Russell Crowe|     1964|     null|57.0|       alive|\n",
            "|nm0001774|         Ben Stiller|     1965|     null|56.0|       alive|\n",
            "|nm0467027| Margarita Kosheleva|     1939|     2015|76.0|    deceased|\n",
            "|nm0000961|     Timothy Bottoms|     1951|     null|70.0|       alive|\n",
            "|nm0001808|       Tracey Ullman|     1959|     null|62.0|       alive|\n",
            "|nm0003012|Michael Creighton...|     1963|     null|58.0|       alive|\n",
            "|nm0003595|        Corey Klemow|     1970|     null|51.0|       alive|\n",
            "|nm0004963|         Peri Gilpin|     1961|     null|60.0|       alive|\n",
            "+---------+--------------------+---------+---------+----+------------+\n",
            "only showing top 20 rows\n",
            "\n",
            "---- 15.84699010848999 Seconds ---\n"
          ],
          "name": "stdout"
        }
      ]
    },
    {
      "cell_type": "code",
      "metadata": {
        "id": "GpTtNxAqqLqh"
      },
      "source": [
        "#Writing parquet into files\n",
        "nf.write.parquet('parquet_names', mode='overwrite')"
      ],
      "execution_count": 32,
      "outputs": []
    },
    {
      "cell_type": "code",
      "metadata": {
        "id": "ccA6Nd4dqL2V"
      },
      "source": [
        "#Read parquet created\n",
        "npf = spark.read.parquet('parquet_names')"
      ],
      "execution_count": 33,
      "outputs": []
    },
    {
      "cell_type": "code",
      "metadata": {
        "id": "I1xEWHHqqgEZ"
      },
      "source": [
        "#create temp parquet view for names\n",
        "npf.createOrReplaceTempView('pnames')"
      ],
      "execution_count": 34,
      "outputs": []
    },
    {
      "cell_type": "code",
      "metadata": {
        "colab": {
          "base_uri": "https://localhost:8080/"
        },
        "id": "eq2V7frvBJld",
        "outputId": "4953f3ce-1ac2-43ed-bf88-fa4c30a7f83c"
      },
      "source": [
        "#Question 1 Parquet\n",
        "start_time = time.time()\n",
        "spark.sql(\"Select DISTINCT nconst, primaryname, birthyear, deathyear, CASE WHEN birthyear IS NOT NULL and deathyear IS NOT NULL then CAST(deathyear - birthyear AS decimal(3,0)) ELSE COALESCE((birthyear - deathyear), 2021-birthyear) END  Age, CASE WHEN deathyear IS NULL AND birthyear IS NOT NULL THEN 'alive' WHEN deathyear IS NOT NULL THEN 'deceased' WHEN birthyear IS NULL AND deathyear is NULL THEN 'unknown'  END LivingStatus from pnames where (primaryprofession LIKE '%actor%' OR primaryprofession LIKE '%actress%') AND birthyear IS NOT NULL\").show()\n",
        "print(\"---- %s Seconds ---\" % (time.time() - start_time))"
      ],
      "execution_count": null,
      "outputs": [
        {
          "output_type": "stream",
          "text": [
            "+---------+--------------------+---------+---------+----+------------+\n",
            "|   nconst|         primaryname|birthyear|deathyear| Age|LivingStatus|\n",
            "+---------+--------------------+---------+---------+----+------------+\n",
            "|nm0937255|      Jan Wlodarczyk|     1934|     2013|79.0|    deceased|\n",
            "|nm2564430|  Tatiana Grigorieva|     1975|     null|46.0|       alive|\n",
            "|nm2576486|       Madison Riley|     1990|     null|31.0|       alive|\n",
            "|nm2576487|      Raymond Alongi|     1960|     null|61.0|       alive|\n",
            "|nm2589744|  Adriano Aragozzini|     1938|     null|83.0|       alive|\n",
            "|nm0953941|     Alexandra Zazzi|     1966|     null|55.0|       alive|\n",
            "|nm0954036|         Natalie Zea|     1975|     null|46.0|       alive|\n",
            "|nm3747206|     Aleksey Bulatov|     1948|     null|73.0|       alive|\n",
            "|nm3752434|           Art Kulik|     1984|     null|37.0|       alive|\n",
            "|nm0990442|          Ben Carson|     1951|     null|70.0|       alive|\n",
            "|nm3776825|         Andrew Gruz|     1984|     null|37.0|       alive|\n",
            "|nm2622848|   Michal Grzybowski|     1979|     null|42.0|       alive|\n",
            "|nm2645942|    Danny Houtkooper|     1984|     null|37.0|       alive|\n",
            "|nm2662464|        Édgar Huerta|     1980|     null|41.0|       alive|\n",
            "|nm3371210|       Petra Vajdová|     1985|     null|36.0|       alive|\n",
            "|nm3407086|       Simona Zmrzlá|     1989|     null|32.0|       alive|\n",
            "|nm0125540|      Margherita Buy|     1962|     null|59.0|       alive|\n",
            "|nm2153281|    Meibi Yamanouchi|     1987|     null|34.0|       alive|\n",
            "|nm2154532|         Lyanka Gryu|     1987|     null|34.0|       alive|\n",
            "|nm0139554|Margarida Carpint...|     1943|     null|78.0|       alive|\n",
            "+---------+--------------------+---------+---------+----+------------+\n",
            "only showing top 20 rows\n",
            "\n",
            "---- 7.579653739929199 Seconds ---\n"
          ],
          "name": "stdout"
        }
      ]
    },
    {
      "cell_type": "code",
      "metadata": {
        "colab": {
          "base_uri": "https://localhost:8080/"
        },
        "id": "51Vz7Yu8BM31",
        "outputId": "57207938-d2dd-4f73-eec7-0f8b9f206a64"
      },
      "source": [
        "spark.sql(\"Select r.tconst from ratings r join basics b on r.tconst = b.tconst join principals p on p.tconst = b.tconst join names n on p.nconst = n.nconst\").show(5)"
      ],
      "execution_count": null,
      "outputs": [
        {
          "output_type": "stream",
          "text": [
            "+---------+\n",
            "|   tconst|\n",
            "+---------+\n",
            "|tt1345836|\n",
            "|tt1345836|\n",
            "|tt1345836|\n",
            "|tt1345836|\n",
            "|tt1345836|\n",
            "+---------+\n",
            "only showing top 5 rows\n",
            "\n"
          ],
          "name": "stdout"
        }
      ]
    },
    {
      "cell_type": "code",
      "metadata": {
        "id": "KNuF1FirBza2",
        "colab": {
          "base_uri": "https://localhost:8080/"
        },
        "outputId": "c904043e-f025-4300-aea6-58f89b4b8266"
      },
      "source": [
        "spark.sql(\"Select b.originaltitle, r.averagerating, b.titletype, b.runtimeminutes, b.genres from ratings r join basics b ON b.tconst = r.tconst\").show(20)"
      ],
      "execution_count": null,
      "outputs": [
        {
          "output_type": "stream",
          "text": [
            "+--------------------+-------------+---------+--------------+--------------------+\n",
            "|       originaltitle|averagerating|titletype|runtimeminutes|              genres|\n",
            "+--------------------+-------------+---------+--------------+--------------------+\n",
            "|           500 Almas|          7.2|    movie|         105.0|         Documentary|\n",
            "|         A1 tou tiao|          5.9|    movie|          95.0|    Mystery,Thriller|\n",
            "| AD/BC: A Rock Opera|          7.4|  tvMovie|          30.0|      Comedy,Musical|\n",
            "|       Ah ma yau nan|          5.5|    movie|          93.0|        Comedy,Crime|\n",
            "|      Bau lit do see|          5.4|    movie|          99.0|              Action|\n",
            "|  The Band Aid Story|          8.1|  tvMovie|          95.0|         Documentary|\n",
            "|A Beachcombers Ch...|          7.0|  tvMovie|         120.0|Adventure,Comedy,...|\n",
            "|Blink 182: Punk P...|          4.1|    video|          61.0|         Documentary|\n",
            "|Boogie special: 5...|          1.0|  tvMovie|          26.0|   Documentary,Music|\n",
            "|Boogie special: M...|          7.7|  tvMovie|          28.0|Biography,Documen...|\n",
            "|The British Comed...|          6.2|tvSpecial|         125.0|              Comedy|\n",
            "|      Broken Bridges|          7.9|    movie|          96.0|               Drama|\n",
            "|   Burgers/Reizigers|          6.3|  tvMovie|          60.0|        Comedy,Drama|\n",
            "|          Cabra-Cega|          6.3|    movie|         107.0|               Drama|\n",
            "|            Cascalho|          6.7|    movie|         104.0|               Drama|\n",
            "|Celebrate the Sou...|          7.6|  tvMovie|          60.0| Documentary,Musical|\n",
            "|Cheng chong chui ...|          5.5|    movie|          95.0|        Comedy,Crime|\n",
            "|The China Syndrom...|          5.5|    video|          28.0|   Documentary,Short|\n",
            "|The China Syndrom...|          4.9|    video|          30.0|   Documentary,Short|\n",
            "|    Christmas Lights|          6.7|  tvMovie|          68.0|        Comedy,Drama|\n",
            "+--------------------+-------------+---------+--------------+--------------------+\n",
            "only showing top 20 rows\n",
            "\n"
          ],
          "name": "stdout"
        }
      ]
    },
    {
      "cell_type": "code",
      "metadata": {
        "colab": {
          "base_uri": "https://localhost:8080/"
        },
        "id": "tH4hDsjr3DaF",
        "outputId": "30f8fc67-f261-4923-8efb-e42809de62e5"
      },
      "source": [
        "bf.printSchema()"
      ],
      "execution_count": null,
      "outputs": [
        {
          "output_type": "stream",
          "text": [
            "root\n",
            " |-- _c0: string (nullable = true)\n",
            " |-- tconst: string (nullable = true)\n",
            " |-- titletype: string (nullable = true)\n",
            " |-- primarytitle: string (nullable = true)\n",
            " |-- originaltitle: string (nullable = true)\n",
            " |-- isadult: string (nullable = true)\n",
            " |-- startyear: string (nullable = true)\n",
            " |-- endyear: string (nullable = true)\n",
            " |-- runtimeminutes: integer (nullable = true)\n",
            " |-- genres: string (nullable = true)\n",
            "\n"
          ],
          "name": "stdout"
        }
      ]
    },
    {
      "cell_type": "code",
      "metadata": {
        "colab": {
          "base_uri": "https://localhost:8080/"
        },
        "id": "_9iSpAJw5wv3",
        "outputId": "d846b5ba-8ef2-4384-a28d-4a60e26ea437"
      },
      "source": [
        "spark.sql(\"Select runtimeminutes, (runtimeminutes % 60) minutes, (runtimeminutes % 1440 / 60) hours, CONCAT(LEFT(runtimeminutes % 1440 / 60, 1) + RIGHT(runtimeminutes % 1440 / 60, 2)) tes from basics\").show(5)"
      ],
      "execution_count": null,
      "outputs": [
        {
          "output_type": "stream",
          "text": [
            "+--------------+-------+------------------+----+\n",
            "|runtimeminutes|minutes|             hours| tes|\n",
            "+--------------+-------+------------------+----+\n",
            "|         105.0|   45.0|              1.75|76.0|\n",
            "|          50.0|   50.0|0.8333333333333334|34.0|\n",
            "|          95.0|   35.0|1.5833333333333333|34.0|\n",
            "|          30.0|   30.0|               0.5| 0.5|\n",
            "|          50.0|   50.0|0.8333333333333334|34.0|\n",
            "+--------------+-------+------------------+----+\n",
            "only showing top 5 rows\n",
            "\n"
          ],
          "name": "stdout"
        }
      ]
    },
    {
      "cell_type": "code",
      "metadata": {
        "id": "INEB423CUVdO",
        "colab": {
          "base_uri": "https://localhost:8080/"
        },
        "outputId": "d0804bdf-a56b-4e43-d226-9c022e670119"
      },
      "source": [
        "spark.sql(\"Select * from principals\").show(5)"
      ],
      "execution_count": 11,
      "outputs": [
        {
          "output_type": "stream",
          "text": [
            "+----------+--------+---------+--------+----+-----------------+\n",
            "|    tconst|ordering|   nconst|category| job|       characters|\n",
            "+----------+--------+---------+--------+----+-----------------+\n",
            "|tt12189034|       6|nm5943320|   actor|null|      \"[\"\"Lee\"\"]\"|\n",
            "|tt12189034|       6|nm5943320|   actor|null|      \"[\"\"Lee\"\"]\"|\n",
            "|tt12189034|       6|nm5943320|   actor|null|      \"[\"\"Lee\"\"]\"|\n",
            "|tt12189034|       6|nm5943320|   actor|null|      \"[\"\"Lee\"\"]\"|\n",
            "|tt12189034|       8|nm7672770|   actor|null|\"[\"\"Detective\"\"]\"|\n",
            "+----------+--------+---------+--------+----+-----------------+\n",
            "only showing top 5 rows\n",
            "\n"
          ],
          "name": "stdout"
        }
      ]
    },
    {
      "cell_type": "code",
      "metadata": {
        "colab": {
          "base_uri": "https://localhost:8080/"
        },
        "id": "mNTm8SOmFiBz",
        "outputId": "e1db3e8d-8dbe-4a4e-a636-fb1833511152"
      },
      "source": [
        "spark.sql(\"Select * from basics\").show(5)"
      ],
      "execution_count": 18,
      "outputs": [
        {
          "output_type": "stream",
          "text": [
            "+---+---------+---------+--------------------+--------------------+-------+---------+-------+--------------+-----------------+\n",
            "|_c0|   tconst|titletype|        primarytitle|       originaltitle|isadult|startyear|endyear|runtimeminutes|           genres|\n",
            "+---+---------+---------+--------------------+--------------------+-------+---------+-------+--------------+-----------------+\n",
            "|  0|tt0439997|    movie|           500 Almas|           500 Almas|      0|     2004|   null|         105.0|      Documentary|\n",
            "|  1|tt0439999|tvSpecial|           80s Mania|           80s Mania|      0|     2001|   null|          50.0|            Music|\n",
            "|  3|tt0440003|    movie|        A-1 Headline|         A1 tou tiao|      0|     2004|   null|          95.0| Mystery,Thriller|\n",
            "|  4|tt0440004|  tvMovie| AD/BC: A Rock Opera| AD/BC: A Rock Opera|      0|     2004|   null|          30.0|   Comedy,Musical|\n",
            "|  5|tt0440008|  tvMovie|Abbamania: We Say...|Abbamania: We Say...|      0|     2004|   null|          50.0|Documentary,Music|\n",
            "+---+---------+---------+--------------------+--------------------+-------+---------+-------+--------------+-----------------+\n",
            "only showing top 5 rows\n",
            "\n"
          ],
          "name": "stdout"
        }
      ]
    },
    {
      "cell_type": "code",
      "metadata": {
        "colab": {
          "base_uri": "https://localhost:8080/"
        },
        "id": "T2LjKKyNFn_C",
        "outputId": "d18f2eab-b9ce-4692-9d7d-58e149dcee35"
      },
      "source": [
        "spark.sql(\"Select * from names WHERE primaryprofession LIKE 'producer'\").show(5)"
      ],
      "execution_count": 20,
      "outputs": [
        {
          "output_type": "stream",
          "text": [
            "+---------+-----------------+---------+---------+-----------------+--------------------+---------+\n",
            "|   nconst|      primaryname|birthyear|deathyear|primaryprofession|      knownfortitles| knownFor|\n",
            "+---------+-----------------+---------+---------+-----------------+--------------------+---------+\n",
            "|nm0460805|    Arlene Knight|     null|     null|         producer|tt4524446,tt40821...|tt4524446|\n",
            "|nm0462049|Sachiko Kobayashi|     null|     null|         producer|tt5498350,tt00929...|tt6413988|\n",
            "|nm0459057| Katharina Kleine|     null|     null|         producer|tt0108979,tt01962...|tt0235930|\n",
            "|nm0459354|Daniel S. Kletzky|     null|     null|         producer|tt0317676,tt01208...|tt0120804|\n",
            "|nm0459859|     Alex Klippel|     null|     null|         producer|tt0333986,tt02598...|tt0257986|\n",
            "+---------+-----------------+---------+---------+-----------------+--------------------+---------+\n",
            "only showing top 5 rows\n",
            "\n"
          ],
          "name": "stdout"
        }
      ]
    },
    {
      "cell_type": "code",
      "metadata": {
        "colab": {
          "base_uri": "https://localhost:8080/"
        },
        "id": "qLZdDVO2GHut",
        "outputId": "b86cc3f1-828e-4f10-a9be-5aca499cf302"
      },
      "source": [
        "#Question #3\n",
        "start_time = time.time()\n",
        "spark.sql(\"Select n.primaryname, b.primarytitle, n.knownFor, n.primaryprofession from names n join basics b ON n.knownFor = b.tconst WHERE n.primaryprofession LIKE '%producer%' \").show()\n",
        "print('--- %s Seconds ---' % (time.time() - start_time))"
      ],
      "execution_count": 41,
      "outputs": [
        {
          "output_type": "stream",
          "text": [
            "+--------------------+--------------------+---------+--------------------+\n",
            "|         primaryname|        primarytitle| knownFor|   primaryprofession|\n",
            "+--------------------+--------------------+---------+--------------------+\n",
            "|         Jimmy Smits|Star Wars: Episod...|tt0121766|      actor,producer|\n",
            "|     Olivia McCallum|Star Wars: Episod...|tt0121766|miscellaneous,ass...|\n",
            "|       Leigh Ann Fan|Star Wars: Episod...|tt0121766|visual_effects,pr...|\n",
            "| Eric D. Christensen|Star Wars: Episod...|tt0121766|visual_effects,ex...|\n",
            "|         Paul Hilton|Star Wars: Episod...|tt0121766|art_department,pr...|\n",
            "|       Erik A. Baron|Star Wars: Episod...|tt0121766|producer,miscella...|\n",
            "|         Iain McCaig|Star Wars: Episod...|tt0121766|art_department,pr...|\n",
            "|         Carl Miller|Star Wars: Episod...|tt0121766|visual_effects,ca...|\n",
            "| Alexandra Junginger|Star Wars: Episod...|tt0121766|visual_effects,pr...|\n",
            "|      Fileena Bahris|Star Wars: Episod...|tt0121766|costume_departmen...|\n",
            "|        Ciara McAvoy|Star Wars: Episod...|tt0121766|art_department,pr...|\n",
            "|Maurizio Licciard...|Star Wars: Episod...|tt0121766|location_manageme...|\n",
            "|         Nick Bernyk|Star Wars: Episod...|tt0121766|producer,art_depa...|\n",
            "|          Ahmed Best|Star Wars: Episod...|tt0121766|actor,producer,di...|\n",
            "|       Ian Bickerton|Star Wars: Episod...|tt0121766|art_department,pr...|\n",
            "|          Jack Kelly|Star Wars: Episod...|tt0121766|producer,special_...|\n",
            "|Jacqui Louez Schoorl|Star Wars: Episod...|tt0121766|miscellaneous,pro...|\n",
            "|        Sarita Patel|Star Wars: Episod...|tt0121766|miscellaneous,pro...|\n",
            "|       Ardees Rabang|Star Wars: Episod...|tt0121766|producer,miscella...|\n",
            "|    Temuera Morrison|Star Wars: Episod...|tt0121766|actor,producer,di...|\n",
            "+--------------------+--------------------+---------+--------------------+\n",
            "only showing top 20 rows\n",
            "\n",
            "--- 16.97359800338745 Seconds ---\n"
          ],
          "name": "stdout"
        }
      ]
    },
    {
      "cell_type": "code",
      "metadata": {
        "id": "zJyxcbO-HWaJ"
      },
      "source": [
        "bf.write.parquet('parquet_basics', mode='overwrite')"
      ],
      "execution_count": 28,
      "outputs": []
    },
    {
      "cell_type": "code",
      "metadata": {
        "id": "TX415E1gKo3T"
      },
      "source": [
        "bpf = spark.read.parquet('parquet_basics')"
      ],
      "execution_count": 29,
      "outputs": []
    },
    {
      "cell_type": "code",
      "metadata": {
        "id": "ONl9PBOzKqLw"
      },
      "source": [
        "bpf.createOrReplaceTempView('bbasics')"
      ],
      "execution_count": 30,
      "outputs": []
    },
    {
      "cell_type": "code",
      "metadata": {
        "colab": {
          "base_uri": "https://localhost:8080/"
        },
        "id": "q0NscKCuKzHn",
        "outputId": "90033ece-23df-4976-c091-9e54f5feb9d0"
      },
      "source": [
        "#Question 3 Parquet\n",
        "start_time = time.time()\n",
        "spark.sql(\"Select n.primaryname, b.primarytitle, n.knownFor, n.primaryprofession from pnames n join bbasics b ON n.knownFor = b.tconst WHERE n.primaryprofession LIKE '%producer%' \").show()\n",
        "print('--- %s Seconds ---' % (time.time() - start_time))"
      ],
      "execution_count": 39,
      "outputs": [
        {
          "output_type": "stream",
          "text": [
            "+-------------------+--------------------+---------+--------------------+\n",
            "|        primaryname|        primarytitle| knownFor|   primaryprofession|\n",
            "+-------------------+--------------------+---------+--------------------+\n",
            "|         Paul Bader|       Space Pioneer|tt1684722|   producer,director|\n",
            "|Linda Kaplan Thaler|        Funny People|tt1201167|soundtrack,produc...|\n",
            "|        Nili Suhami|              August|tt1753460|actress,casting_d...|\n",
            "|      Daniel Fildes|     Phone Shop Idol|tt6382182|   director,producer|\n",
            "|     Akeko Yokoyama|            Kamichu!|tt0961173|            producer|\n",
            "|       Claire Gadea|              Rafiki|tt8286894|producer,miscella...|\n",
            "|       Claire Gadea|     Shine Your Eyes|tt8477336|producer,miscella...|\n",
            "|    Jennifer Lunney|On the Road in Am...|tt0954760|production_manage...|\n",
            "|   Maria Ibrahimova|          Miss Gulag|tt0963993|producer,director...|\n",
            "|        Jannelle So|    Brown Soup Thing|tt0833878|producer,actress,...|\n",
            "|      Chris Shearer|  In This Short Life|tt0962765|            producer|\n",
            "|   Amber Millington|The Piano: An Ody...|tt3228948|producer,script_d...|\n",
            "|      David Seymour|   Dangerous Parking|tt0417586|actor,writer,prod...|\n",
            "|         Suzy Klein|         The Tempest|tt1560731|writer,producer,a...|\n",
            "|       Linda Dippel|Barney: Let's Go ...|tt2591718|            producer|\n",
            "|      Mike Runagall|         Guns Akimbo|tt6902676|producer,miscella...|\n",
            "|      Mike Runagall|      47 Meters Down|tt2932536|producer,miscella...|\n",
            "|         Jay Nelson|     Beyond the Pale|tt0934392|            producer|\n",
            "|     Holly Spearing|         Springwatch|tt0815420|producer,miscella...|\n",
            "|  Hideaki Sakaguchi|New Initial D the...|tt3971764|animation_departm...|\n",
            "+-------------------+--------------------+---------+--------------------+\n",
            "only showing top 20 rows\n",
            "\n",
            "--- 2.28930401802063 Seconds ---\n"
          ],
          "name": "stdout"
        }
      ]
    },
    {
      "cell_type": "code",
      "metadata": {
        "id": "L6eMvv6uK40m"
      },
      "source": [
        ""
      ],
      "execution_count": null,
      "outputs": []
    }
  ]
}